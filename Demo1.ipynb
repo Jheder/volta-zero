{
 "cells": [
  {
   "cell_type": "code",
   "execution_count": 5,
   "id": "35167f5b-64ea-41ea-91d3-d32e52fd6b2e",
   "metadata": {},
   "outputs": [
    {
     "data": {
      "text/plain": [
       "2"
      ]
     },
     "execution_count": 5,
     "metadata": {},
     "output_type": "execute_result"
    }
   ],
   "source": [
    "1 + 1"
   ]
  },
  {
   "cell_type": "code",
   "execution_count": 7,
   "id": "0922a57e-211f-427a-8404-ceaac2a2296c",
   "metadata": {},
   "outputs": [
    {
     "data": {
      "text/plain": [
       "144"
      ]
     },
     "execution_count": 7,
     "metadata": {},
     "output_type": "execute_result"
    }
   ],
   "source": [
    "12 ** 2"
   ]
  },
  {
   "cell_type": "markdown",
   "id": "c7aa3aaa-5f60-420d-9098-c40a673ec005",
   "metadata": {},
   "source": [
    "Exemplo de texto de *Markdown*"
   ]
  },
  {
   "cell_type": "markdown",
   "id": "bb545bd2-d717-4895-afba-6996a0fe3f50",
   "metadata": {},
   "source": [
    "# Exemplo de Título\n",
    "Célula com título em markdonw"
   ]
  },
  {
   "cell_type": "code",
   "execution_count": null,
   "id": "2fe6db3a-0162-4fc0-9d6d-e66a2936f4df",
   "metadata": {},
   "outputs": [],
   "source": []
  }
 ],
 "metadata": {
  "kernelspec": {
   "display_name": "Python 3 (ipykernel)",
   "language": "python",
   "name": "python3"
  },
  "language_info": {
   "codemirror_mode": {
    "name": "ipython",
    "version": 3
   },
   "file_extension": ".py",
   "mimetype": "text/x-python",
   "name": "python",
   "nbconvert_exporter": "python",
   "pygments_lexer": "ipython3",
   "version": "3.12.4"
  }
 },
 "nbformat": 4,
 "nbformat_minor": 5
}
